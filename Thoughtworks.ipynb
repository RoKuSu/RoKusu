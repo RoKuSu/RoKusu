{
 "cells": [
  {
   "cell_type": "code",
   "execution_count": 1,
   "metadata": {},
   "outputs": [
    {
     "name": "stdout",
     "output_type": "stream",
     "text": [
      "/home/rokusu/Downloads\n"
     ]
    }
   ],
   "source": [
    "cd Downloads/"
   ]
  },
  {
   "cell_type": "markdown",
   "metadata": {},
   "source": [
    "### All Problems:-\n",
    "\n",
    "### • Question 1 Do a descriptive analysis of all the variables.\n",
    "### Answer given in the notebook below\n",
    "\n",
    "\n",
    "### • Question 2 There is a new customer who needs a loan. Which models will be best suited to predict the loan_amount that can be granted to the customer?\n",
    "### Answer 2• Our problem here requires a regression model,Tree based models perform exceptionally well with categorical variables and for high interpretebility one can use polynomial regression. Either of these two but if you can define certain categories of how much loan amount can be given then this problem can be converted to classification problem and then we can use trees like GBT\n",
    "\n",
    "\n",
    "### • Question 3 Part A: Build a model to predict the maximum loan_amount that can be granted to the customer. Part B: Which all variables are good predictors?\n",
    "### Answer given in the notebook below\n",
    "\n",
    "\n",
    "### • Question 4 Build atleast one model from scratch that fits this data, without using any third party packages like sklearn, glm, lm, rpart, etc. You are free to use linear algebra packages like scipy, numpy or any blas derivative. We would be more interested in the convergence of the algorithm rather than the prediction accuracy.\n",
    "### Answer 4• I have built a polynomial regression from scratch using numpy and linear algebra. I have also written a basic cost function and a gradient descent function to optimize cost. Because of learning rate our model is converging very slowly even after 100 iterations or we can also say we already got the most optimised weights for this model, see in the notebook below\n",
    "\n",
    "\n",
    "### • Question 5 Is loan_purpose a significant predictor? The business has insisted on using loan_purpose as a predictor. If it is not already a significant contributor, can we still modify the model to include it?\n",
    "### Answer• loan_purpose is a significant contributor, its the 7th top/best features See Below </font\n",
    "\n",
    "#### <font color='red'> • Question 6 How will you measure the fitness of the model? Which metrics (accuracy, recall, etc.) are most relevant? </font>\n",
    "<font color='green'> Answer 6• Mostly R-Squared along with Adjusted R-Squared are used in Regression for checking goodness of fit. Evaluation metrics like Mean Absolute Error, Mean Squared Error and Root MSE are relevant in Regression </font>\n"
   ]
  },
  {
   "cell_type": "code",
   "execution_count": 2,
   "metadata": {},
   "outputs": [],
   "source": [
    "import pandas as pd\n",
    "df = pd.read_csv('trainingData.csv')"
   ]
  },
  {
   "cell_type": "code",
   "execution_count": 3,
   "metadata": {},
   "outputs": [
    {
     "data": {
      "text/html": [
       "<div>\n",
       "<style scoped>\n",
       "    .dataframe tbody tr th:only-of-type {\n",
       "        vertical-align: middle;\n",
       "    }\n",
       "\n",
       "    .dataframe tbody tr th {\n",
       "        vertical-align: top;\n",
       "    }\n",
       "\n",
       "    .dataframe thead th {\n",
       "        text-align: right;\n",
       "    }\n",
       "</style>\n",
       "<table border=\"1\" class=\"dataframe\">\n",
       "  <thead>\n",
       "    <tr style=\"text-align: right;\">\n",
       "      <th></th>\n",
       "      <th>Id</th>\n",
       "      <th>city</th>\n",
       "      <th>age</th>\n",
       "      <th>sex</th>\n",
       "      <th>social_class</th>\n",
       "      <th>primary_business</th>\n",
       "      <th>secondary_business</th>\n",
       "      <th>annual_income</th>\n",
       "      <th>monthly_expenses</th>\n",
       "      <th>old_dependents</th>\n",
       "      <th>...</th>\n",
       "      <th>home_ownership</th>\n",
       "      <th>type_of_house</th>\n",
       "      <th>occupants_count</th>\n",
       "      <th>house_area</th>\n",
       "      <th>sanitary_availability</th>\n",
       "      <th>water_availabity</th>\n",
       "      <th>loan_purpose</th>\n",
       "      <th>loan_tenure</th>\n",
       "      <th>loan_installments</th>\n",
       "      <th>loan_amount</th>\n",
       "    </tr>\n",
       "  </thead>\n",
       "  <tbody>\n",
       "    <tr>\n",
       "      <th>0</th>\n",
       "      <td>1</td>\n",
       "      <td>Dhanbad</td>\n",
       "      <td>22</td>\n",
       "      <td>F</td>\n",
       "      <td>Mochi</td>\n",
       "      <td>Tailoring</td>\n",
       "      <td>Others</td>\n",
       "      <td>36000.0</td>\n",
       "      <td>5000.0</td>\n",
       "      <td>0</td>\n",
       "      <td>...</td>\n",
       "      <td>1.0</td>\n",
       "      <td>R</td>\n",
       "      <td>4</td>\n",
       "      <td>70.0</td>\n",
       "      <td>1.0</td>\n",
       "      <td>0.5</td>\n",
       "      <td>Apparels</td>\n",
       "      <td>12</td>\n",
       "      <td>12</td>\n",
       "      <td>5000.0</td>\n",
       "    </tr>\n",
       "    <tr>\n",
       "      <th>1</th>\n",
       "      <td>2</td>\n",
       "      <td>Manjapra</td>\n",
       "      <td>21</td>\n",
       "      <td>F</td>\n",
       "      <td>OBC</td>\n",
       "      <td>Tailoring</td>\n",
       "      <td>none</td>\n",
       "      <td>94000.0</td>\n",
       "      <td>3600.0</td>\n",
       "      <td>1</td>\n",
       "      <td>...</td>\n",
       "      <td>1.0</td>\n",
       "      <td>T1</td>\n",
       "      <td>4</td>\n",
       "      <td>80.0</td>\n",
       "      <td>1.0</td>\n",
       "      <td>0.5</td>\n",
       "      <td>Apparels</td>\n",
       "      <td>12</td>\n",
       "      <td>50</td>\n",
       "      <td>7500.0</td>\n",
       "    </tr>\n",
       "    <tr>\n",
       "      <th>2</th>\n",
       "      <td>3</td>\n",
       "      <td>Dhanbad</td>\n",
       "      <td>24</td>\n",
       "      <td>M</td>\n",
       "      <td>Nai</td>\n",
       "      <td>Beauty salon</td>\n",
       "      <td>Others</td>\n",
       "      <td>48000.0</td>\n",
       "      <td>4000.0</td>\n",
       "      <td>0</td>\n",
       "      <td>...</td>\n",
       "      <td>1.0</td>\n",
       "      <td>T1</td>\n",
       "      <td>4</td>\n",
       "      <td>50.0</td>\n",
       "      <td>1.0</td>\n",
       "      <td>0.5</td>\n",
       "      <td>Beauty Salon</td>\n",
       "      <td>12</td>\n",
       "      <td>12</td>\n",
       "      <td>5000.0</td>\n",
       "    </tr>\n",
       "    <tr>\n",
       "      <th>3</th>\n",
       "      <td>4</td>\n",
       "      <td>NaN</td>\n",
       "      <td>26</td>\n",
       "      <td>F</td>\n",
       "      <td>OBC</td>\n",
       "      <td>Tailoring</td>\n",
       "      <td>none</td>\n",
       "      <td>7000.0</td>\n",
       "      <td>5000.0</td>\n",
       "      <td>0</td>\n",
       "      <td>...</td>\n",
       "      <td>1.0</td>\n",
       "      <td>T1</td>\n",
       "      <td>5</td>\n",
       "      <td>50.0</td>\n",
       "      <td>1.0</td>\n",
       "      <td>0.5</td>\n",
       "      <td>Apparels</td>\n",
       "      <td>12</td>\n",
       "      <td>50</td>\n",
       "      <td>7500.0</td>\n",
       "    </tr>\n",
       "    <tr>\n",
       "      <th>4</th>\n",
       "      <td>5</td>\n",
       "      <td>Nuapada</td>\n",
       "      <td>23</td>\n",
       "      <td>F</td>\n",
       "      <td>OBC</td>\n",
       "      <td>General store</td>\n",
       "      <td>Agriculture</td>\n",
       "      <td>36000.0</td>\n",
       "      <td>3500.0</td>\n",
       "      <td>0</td>\n",
       "      <td>...</td>\n",
       "      <td>1.0</td>\n",
       "      <td>T1</td>\n",
       "      <td>1</td>\n",
       "      <td>112.0</td>\n",
       "      <td>1.0</td>\n",
       "      <td>0.5</td>\n",
       "      <td>Retail Store</td>\n",
       "      <td>12</td>\n",
       "      <td>12</td>\n",
       "      <td>5000.0</td>\n",
       "    </tr>\n",
       "  </tbody>\n",
       "</table>\n",
       "<p>5 rows × 21 columns</p>\n",
       "</div>"
      ],
      "text/plain": [
       "   Id      city  age sex social_class primary_business secondary_business  \\\n",
       "0   1   Dhanbad   22   F        Mochi        Tailoring             Others   \n",
       "1   2  Manjapra   21   F          OBC        Tailoring               none   \n",
       "2   3   Dhanbad   24   M          Nai     Beauty salon             Others   \n",
       "3   4       NaN   26   F          OBC        Tailoring               none   \n",
       "4   5   Nuapada   23   F          OBC    General store        Agriculture   \n",
       "\n",
       "   annual_income  monthly_expenses  old_dependents  ...  home_ownership  \\\n",
       "0        36000.0            5000.0               0  ...             1.0   \n",
       "1        94000.0            3600.0               1  ...             1.0   \n",
       "2        48000.0            4000.0               0  ...             1.0   \n",
       "3         7000.0            5000.0               0  ...             1.0   \n",
       "4        36000.0            3500.0               0  ...             1.0   \n",
       "\n",
       "   type_of_house occupants_count  house_area  sanitary_availability  \\\n",
       "0              R               4        70.0                    1.0   \n",
       "1             T1               4        80.0                    1.0   \n",
       "2             T1               4        50.0                    1.0   \n",
       "3             T1               5        50.0                    1.0   \n",
       "4             T1               1       112.0                    1.0   \n",
       "\n",
       "   water_availabity  loan_purpose loan_tenure  loan_installments  loan_amount  \n",
       "0               0.5      Apparels          12                 12       5000.0  \n",
       "1               0.5      Apparels          12                 50       7500.0  \n",
       "2               0.5  Beauty Salon          12                 12       5000.0  \n",
       "3               0.5      Apparels          12                 50       7500.0  \n",
       "4               0.5  Retail Store          12                 12       5000.0  \n",
       "\n",
       "[5 rows x 21 columns]"
      ]
     },
     "execution_count": 3,
     "metadata": {},
     "output_type": "execute_result"
    }
   ],
   "source": [
    "df.head()"
   ]
  },
  {
   "cell_type": "markdown",
   "metadata": {},
   "source": [
    "## Answer 1 Descriptive Analysis and stats of all features"
   ]
  },
  {
   "cell_type": "code",
   "execution_count": 4,
   "metadata": {},
   "outputs": [
    {
     "data": {
      "text/html": [
       "<div>\n",
       "<style scoped>\n",
       "    .dataframe tbody tr th:only-of-type {\n",
       "        vertical-align: middle;\n",
       "    }\n",
       "\n",
       "    .dataframe tbody tr th {\n",
       "        vertical-align: top;\n",
       "    }\n",
       "\n",
       "    .dataframe thead th {\n",
       "        text-align: right;\n",
       "    }\n",
       "</style>\n",
       "<table border=\"1\" class=\"dataframe\">\n",
       "  <thead>\n",
       "    <tr style=\"text-align: right;\">\n",
       "      <th></th>\n",
       "      <th>Id</th>\n",
       "      <th>age</th>\n",
       "      <th>annual_income</th>\n",
       "      <th>monthly_expenses</th>\n",
       "      <th>old_dependents</th>\n",
       "      <th>young_dependents</th>\n",
       "      <th>home_ownership</th>\n",
       "      <th>occupants_count</th>\n",
       "      <th>house_area</th>\n",
       "      <th>sanitary_availability</th>\n",
       "      <th>water_availabity</th>\n",
       "      <th>loan_tenure</th>\n",
       "      <th>loan_installments</th>\n",
       "      <th>loan_amount</th>\n",
       "    </tr>\n",
       "  </thead>\n",
       "  <tbody>\n",
       "    <tr>\n",
       "      <th>count</th>\n",
       "      <td>40000.00000</td>\n",
       "      <td>40000.00000</td>\n",
       "      <td>4.000000e+04</td>\n",
       "      <td>39880.000000</td>\n",
       "      <td>40000.000000</td>\n",
       "      <td>40000.00000</td>\n",
       "      <td>39621.000000</td>\n",
       "      <td>40000.000000</td>\n",
       "      <td>40000.000000</td>\n",
       "      <td>39792.000000</td>\n",
       "      <td>34747.000000</td>\n",
       "      <td>40000.000000</td>\n",
       "      <td>40000.000000</td>\n",
       "      <td>4.000000e+04</td>\n",
       "    </tr>\n",
       "    <tr>\n",
       "      <th>mean</th>\n",
       "      <td>20000.50000</td>\n",
       "      <td>55.15990</td>\n",
       "      <td>3.764021e+04</td>\n",
       "      <td>3810.875401</td>\n",
       "      <td>0.044900</td>\n",
       "      <td>1.13710</td>\n",
       "      <td>0.972489</td>\n",
       "      <td>26.641000</td>\n",
       "      <td>552.804750</td>\n",
       "      <td>0.686369</td>\n",
       "      <td>0.753216</td>\n",
       "      <td>12.032225</td>\n",
       "      <td>21.761175</td>\n",
       "      <td>8.412593e+03</td>\n",
       "    </tr>\n",
       "    <tr>\n",
       "      <th>std</th>\n",
       "      <td>11547.14972</td>\n",
       "      <td>3830.35566</td>\n",
       "      <td>2.873912e+04</td>\n",
       "      <td>4592.958009</td>\n",
       "      <td>0.222003</td>\n",
       "      <td>1.07384</td>\n",
       "      <td>0.163568</td>\n",
       "      <td>4749.995485</td>\n",
       "      <td>4596.921905</td>\n",
       "      <td>0.464028</td>\n",
       "      <td>0.255337</td>\n",
       "      <td>1.367473</td>\n",
       "      <td>16.682458</td>\n",
       "      <td>1.359694e+04</td>\n",
       "    </tr>\n",
       "    <tr>\n",
       "      <th>min</th>\n",
       "      <td>1.00000</td>\n",
       "      <td>2.00000</td>\n",
       "      <td>0.000000e+00</td>\n",
       "      <td>2.000000</td>\n",
       "      <td>0.000000</td>\n",
       "      <td>0.00000</td>\n",
       "      <td>0.000000</td>\n",
       "      <td>0.000000</td>\n",
       "      <td>0.000000</td>\n",
       "      <td>-1.000000</td>\n",
       "      <td>-1.000000</td>\n",
       "      <td>3.000000</td>\n",
       "      <td>0.000000</td>\n",
       "      <td>1.000000e+02</td>\n",
       "    </tr>\n",
       "    <tr>\n",
       "      <th>25%</th>\n",
       "      <td>10000.75000</td>\n",
       "      <td>29.00000</td>\n",
       "      <td>1.440000e+04</td>\n",
       "      <td>2500.000000</td>\n",
       "      <td>0.000000</td>\n",
       "      <td>0.00000</td>\n",
       "      <td>1.000000</td>\n",
       "      <td>2.000000</td>\n",
       "      <td>200.000000</td>\n",
       "      <td>0.000000</td>\n",
       "      <td>0.500000</td>\n",
       "      <td>12.000000</td>\n",
       "      <td>12.000000</td>\n",
       "      <td>5.000000e+03</td>\n",
       "    </tr>\n",
       "    <tr>\n",
       "      <th>50%</th>\n",
       "      <td>20000.50000</td>\n",
       "      <td>35.00000</td>\n",
       "      <td>3.600000e+04</td>\n",
       "      <td>3500.000000</td>\n",
       "      <td>0.000000</td>\n",
       "      <td>1.00000</td>\n",
       "      <td>1.000000</td>\n",
       "      <td>3.000000</td>\n",
       "      <td>400.000000</td>\n",
       "      <td>1.000000</td>\n",
       "      <td>1.000000</td>\n",
       "      <td>12.000000</td>\n",
       "      <td>12.000000</td>\n",
       "      <td>8.000000e+03</td>\n",
       "    </tr>\n",
       "    <tr>\n",
       "      <th>75%</th>\n",
       "      <td>30000.25000</td>\n",
       "      <td>42.00000</td>\n",
       "      <td>5.600000e+04</td>\n",
       "      <td>4000.000000</td>\n",
       "      <td>0.000000</td>\n",
       "      <td>2.00000</td>\n",
       "      <td>1.000000</td>\n",
       "      <td>4.000000</td>\n",
       "      <td>600.000000</td>\n",
       "      <td>1.000000</td>\n",
       "      <td>1.000000</td>\n",
       "      <td>12.000000</td>\n",
       "      <td>50.000000</td>\n",
       "      <td>1.000000e+04</td>\n",
       "    </tr>\n",
       "    <tr>\n",
       "      <th>max</th>\n",
       "      <td>40000.00000</td>\n",
       "      <td>766105.00000</td>\n",
       "      <td>1.200000e+06</td>\n",
       "      <td>240000.000000</td>\n",
       "      <td>3.000000</td>\n",
       "      <td>7.00000</td>\n",
       "      <td>1.000000</td>\n",
       "      <td>950000.000000</td>\n",
       "      <td>700000.000000</td>\n",
       "      <td>1.000000</td>\n",
       "      <td>1.000000</td>\n",
       "      <td>84.000000</td>\n",
       "      <td>84.000000</td>\n",
       "      <td>1.343000e+06</td>\n",
       "    </tr>\n",
       "  </tbody>\n",
       "</table>\n",
       "</div>"
      ],
      "text/plain": [
       "                Id           age  annual_income  monthly_expenses  \\\n",
       "count  40000.00000   40000.00000   4.000000e+04      39880.000000   \n",
       "mean   20000.50000      55.15990   3.764021e+04       3810.875401   \n",
       "std    11547.14972    3830.35566   2.873912e+04       4592.958009   \n",
       "min        1.00000       2.00000   0.000000e+00          2.000000   \n",
       "25%    10000.75000      29.00000   1.440000e+04       2500.000000   \n",
       "50%    20000.50000      35.00000   3.600000e+04       3500.000000   \n",
       "75%    30000.25000      42.00000   5.600000e+04       4000.000000   \n",
       "max    40000.00000  766105.00000   1.200000e+06     240000.000000   \n",
       "\n",
       "       old_dependents  young_dependents  home_ownership  occupants_count  \\\n",
       "count    40000.000000       40000.00000    39621.000000     40000.000000   \n",
       "mean         0.044900           1.13710        0.972489        26.641000   \n",
       "std          0.222003           1.07384        0.163568      4749.995485   \n",
       "min          0.000000           0.00000        0.000000         0.000000   \n",
       "25%          0.000000           0.00000        1.000000         2.000000   \n",
       "50%          0.000000           1.00000        1.000000         3.000000   \n",
       "75%          0.000000           2.00000        1.000000         4.000000   \n",
       "max          3.000000           7.00000        1.000000    950000.000000   \n",
       "\n",
       "          house_area  sanitary_availability  water_availabity   loan_tenure  \\\n",
       "count   40000.000000           39792.000000      34747.000000  40000.000000   \n",
       "mean      552.804750               0.686369          0.753216     12.032225   \n",
       "std      4596.921905               0.464028          0.255337      1.367473   \n",
       "min         0.000000              -1.000000         -1.000000      3.000000   \n",
       "25%       200.000000               0.000000          0.500000     12.000000   \n",
       "50%       400.000000               1.000000          1.000000     12.000000   \n",
       "75%       600.000000               1.000000          1.000000     12.000000   \n",
       "max    700000.000000               1.000000          1.000000     84.000000   \n",
       "\n",
       "       loan_installments   loan_amount  \n",
       "count       40000.000000  4.000000e+04  \n",
       "mean           21.761175  8.412593e+03  \n",
       "std            16.682458  1.359694e+04  \n",
       "min             0.000000  1.000000e+02  \n",
       "25%            12.000000  5.000000e+03  \n",
       "50%            12.000000  8.000000e+03  \n",
       "75%            50.000000  1.000000e+04  \n",
       "max            84.000000  1.343000e+06  "
      ]
     },
     "execution_count": 4,
     "metadata": {},
     "output_type": "execute_result"
    }
   ],
   "source": [
    "df.describe()"
   ]
  },
  {
   "cell_type": "markdown",
   "metadata": {},
   "source": [
    "#### filling missing values with mode"
   ]
  },
  {
   "cell_type": "code",
   "execution_count": 5,
   "metadata": {},
   "outputs": [],
   "source": [
    "import pandas as pd\n",
    "import numpy as np\n",
    "\n",
    "for x in df.columns:\n",
    "    df[x] = df[x].fillna(df[x].mode()[0])"
   ]
  },
  {
   "cell_type": "markdown",
   "metadata": {},
   "source": [
    "## converting string categorical values to numerical using label encoder"
   ]
  },
  {
   "cell_type": "code",
   "execution_count": 6,
   "metadata": {},
   "outputs": [],
   "source": [
    "from sklearn.preprocessing import LabelEncoder\n",
    "from collections import defaultdict\n",
    "d = defaultdict(LabelEncoder)\n",
    "\n",
    "X = df.iloc[:,1:-1]\n",
    "y = df.iloc[:,-1].values.reshape(len(df),1)\n",
    "list1=[]\n",
    "\n",
    "# Encoding the variable\n",
    "for x in X.columns:\n",
    "    if X[x].dtype not in ['int64','float64']:\n",
    "        list1.append(x)\n",
    "        \n",
    "Lbldf = X[list1]\n",
    "X = X.drop(list1,axis=1)\n",
    "Lbldf = Lbldf.apply(lambda x: d[x.name].fit_transform(x))\n",
    "\n",
    "# # Inverse the encoded\n",
    "# fit.apply(lambda x: d[x.name].inverse_transform(x))\n",
    "\n",
    "# df.apply(lambda x: d[x.name].transform(x))"
   ]
  },
  {
   "cell_type": "code",
   "execution_count": 7,
   "metadata": {},
   "outputs": [],
   "source": [
    "X = pd.concat([X,Lbldf],axis=1)"
   ]
  },
  {
   "cell_type": "markdown",
   "metadata": {},
   "source": [
    "## standardized dataframe all values are now in range 0 to 1"
   ]
  },
  {
   "cell_type": "code",
   "execution_count": 8,
   "metadata": {},
   "outputs": [],
   "source": [
    "for x in X.columns:\n",
    "    X[x] = (X[x]- X[x].min())/(X[x].max()-X[x].min())\n",
    "\n",
    "# X = df.iloc[:,:-1]  #independent columns\n",
    "# y = df.iloc[:,-1]    #target column"
   ]
  },
  {
   "cell_type": "markdown",
   "metadata": {},
   "source": [
    "## Answer 3 Building a tree based regressor and also look at top contributors, other ways to determine important variables are by using f_test_regression in selectKbest, looking at p values from hypothesis testing in different tests t test, student test, you can also use ANCOVA to see if predictor is good"
   ]
  },
  {
   "cell_type": "code",
   "execution_count": 49,
   "metadata": {},
   "outputs": [
    {
     "name": "stderr",
     "output_type": "stream",
     "text": [
      "/home/rokusu/rokusu/lib/python3.6/site-packages/ipykernel_launcher.py:6: DataConversionWarning: A column-vector y was passed when a 1d array was expected. Please change the shape of y to (n_samples,), for example using ravel().\n",
      "  \n"
     ]
    },
    {
     "data": {
      "image/png": "[encoded data removed]",
      "text/plain": [
       "<Figure size 360x360 with 1 Axes>"
      ]
     },
     "metadata": {
      "needs_background": "light"
     },
     "output_type": "display_data"
    }
   ],
   "source": [
    "from sklearn.feature_selection import SelectKBest\n",
    "from sklearn.feature_selection import chi2\n",
    "from sklearn.ensemble import ExtraTreesRegressor\n",
    "import matplotlib.pyplot as plt\n",
    "model = ExtraTreesRegressor()\n",
    "model.fit(X,y)\n",
    "# print(model.feature_importances_) #use inbuilt class feature_importanLblEncodictf tree based classifiers\n",
    "#plot graph of feature importances for better visualization\n",
    "plt.figure(figsize=(5,5))\n",
    "feat_importances = pd.Series(model.feature_importances_, index=X.columns)\n",
    "feat_importances.nlargest(20).plot(kind='barh')\n",
    "plt.show()"
   ]
  },
  {
   "cell_type": "markdown",
   "metadata": {},
   "source": [
    "## In the picture above you can see old dependents, sex, home_ownership are less significant and social_class, loan-tenure, city, primary business are top contributors"
   ]
  },
  {
   "cell_type": "code",
   "execution_count": 50,
   "metadata": {},
   "outputs": [
    {
     "data": {
      "image/png": "[encoded data removed]",
      "text/plain": [
       "<Figure size 720x216 with 2 Axes>"
      ]
     },
     "metadata": {
      "needs_background": "light"
     },
     "output_type": "display_data"
    }
   ],
   "source": [
    "fig, axes = plt.subplots(nrows=1, ncols=2, figsize=(10, 3))\n",
    "axes[0].plot(y,color='orange')\n",
    "axes[1].plot(model.predict(X))\n",
    "fig.tight_layout()\n",
    "plt.show()"
   ]
  },
  {
   "cell_type": "markdown",
   "metadata": {},
   "source": [
    "#### in the picture above you can see how well the model has learned the training data, gives a very accurate prediction"
   ]
  },
  {
   "cell_type": "markdown",
   "metadata": {},
   "source": [
    "."
   ]
  },
  {
   "cell_type": "markdown",
   "metadata": {},
   "source": [
    "## Answer 4 building model from scratch\n",
    "##### Equation of Regression for target y = weight * X + intercept\n",
    "##### intercept could be bias as well, Let's add bias to the values"
   ]
  },
  {
   "cell_type": "code",
   "execution_count": 9,
   "metadata": {},
   "outputs": [],
   "source": [
    "ones = np.ones([X.shape[0],1])\n",
    "X = np.concatenate((ones,X),axis=1)"
   ]
  },
  {
   "cell_type": "markdown",
   "metadata": {},
   "source": [
    "#### Initializing weights as 0 in the beginning"
   ]
  },
  {
   "cell_type": "code",
   "execution_count": 10,
   "metadata": {},
   "outputs": [],
   "source": [
    "weights = np.zeros(X.shape[1])       #-----> all weights are 0\n",
    "# np.linalg.inv(X.transpose().dot(X)).dot(X.transpose()).dot(y)     #---> optimised weights"
   ]
  },
  {
   "cell_type": "markdown",
   "metadata": {},
   "source": [
    "#### alpha is the learning rate will be used in our gradient descent function"
   ]
  },
  {
   "cell_type": "code",
   "execution_count": 11,
   "metadata": {},
   "outputs": [],
   "source": [
    "alpha = 0.01"
   ]
  },
  {
   "cell_type": "code",
   "execution_count": 117,
   "metadata": {},
   "outputs": [],
   "source": [
    "iterations = 15"
   ]
  },
  {
   "cell_type": "markdown",
   "metadata": {},
   "source": [
    "## Cost function calculates (ypred-yactual)^2"
   ]
  },
  {
   "cell_type": "code",
   "execution_count": 118,
   "metadata": {},
   "outputs": [],
   "source": [
    "def Costfunc(X,y,wts):\n",
    "    costval = np.power(((X.dot(wts))-y),2)\n",
    "    return np.sum(costval)/(2 * len(X))"
   ]
  },
  {
   "cell_type": "markdown",
   "metadata": {},
   "source": [
    "## basic gradient descent function that updates weights on the basis of cost and learning rate"
   ]
  },
  {
   "cell_type": "code",
   "execution_count": 119,
   "metadata": {},
   "outputs": [
    {
     "name": "stdout",
     "output_type": "stream",
     "text": [
      "final optimised weights [1.26188888e+03 6.74868714e-02 4.37640917e+01 2.07780637e+01\n",
      " 1.99422500e+01 2.06924679e+02 1.22805000e+03 3.41152851e-02\n",
      " 1.03503624e+00 1.08467737e+03 1.13841637e+03 1.43543208e+02\n",
      " 3.33379884e+02 6.48012877e+02 4.02515625e+01 7.23764005e+02\n",
      " 6.56071214e+02 1.11974062e+03 7.98038625e+02 3.90904375e+02]\n",
      "final optimised cost Mean Squared error 93033982.8072023\n"
     ]
    }
   ],
   "source": [
    "def GradientDescentFunc(X,y,wts,iterations,alpha):\n",
    "    costlist = []\n",
    "    for i in range(iterations):\n",
    "        wts = wts - ((alpha/len(X)) * (X.dot(weights) - y).T.dot(X))\n",
    "        costlist.append(Costfunc(X, y, wts))\n",
    "    return wts,costlist\n",
    "g,cost = GradientDescentFunc(X,y,weights,iterations,alpha)\n",
    "print('final optimised weights',g)\n",
    "\n",
    "finalCost = Costfunc(X,y,g)\n",
    "y_pred=X.dot(g)\n",
    "print('final optimised cost Mean Squared error',finalCost)"
   ]
  },
  {
   "cell_type": "markdown",
   "metadata": {},
   "source": [
    "## another way of telling significance of variables is by looking at their final coefficients after training"
   ]
  },
  {
   "cell_type": "code",
   "execution_count": 122,
   "metadata": {},
   "outputs": [
    {
     "data": {
      "image/png": "[encoded data removed]",
      "text/plain": [
       "<Figure size 432x288 with 1 Axes>"
      ]
     },
     "metadata": {
      "needs_background": "light"
     },
     "output_type": "display_data"
    }
   ],
   "source": [
    "from matplotlib import pyplot as plt\n",
    "fig, ax = plt.subplots()  \n",
    "ax.plot(np.arange(iterations), cost, 'r')  \n",
    "ax.set_xlabel('Iterations')  \n",
    "ax.set_ylabel('Cost')  \n",
    "ax.set_title('Error convergence 100 iterations')\n",
    "plt.show()"
   ]
  },
  {
   "cell_type": "markdown",
   "metadata": {},
   "source": [
    "## output of model built from scratch not a great one but interesting stats is mean of both yactual and ypred is same, a better gradient descent function is required for better optimisation"
   ]
  },
  {
   "cell_type": "code",
   "execution_count": 316,
   "metadata": {},
   "outputs": [
    {
     "data": {
      "image/png": "[encoded data removed]",
      "text/plain": [
       "<Figure size 432x288 with 1 Axes>"
      ]
     },
     "metadata": {
      "needs_background": "light"
     },
     "output_type": "display_data"
    }
   ],
   "source": [
    "fig, ax = plt.subplots(1, 1)\n",
    "ax.plot(y)\n",
    "ax.plot(y_pred)\n",
    "ax.set_title('Blue Actual, Orange Predicted')\n",
    "plt.show()"
   ]
  }
 ],
 "metadata": {
  "kernelspec": {
   "display_name": "rokusu",
   "language": "python",
   "name": "rokusu"
  },
  "language_info": {
   "codemirror_mode": {
    "name": "ipython",
    "version": 3
   },
   "file_extension": ".py",
   "mimetype": "text/x-python",
   "name": "python",
   "nbconvert_exporter": "python",
   "pygments_lexer": "ipython3",
   "version": "3.6.8"
  }
 },
 "nbformat": 4,
 "nbformat_minor": 4
}
